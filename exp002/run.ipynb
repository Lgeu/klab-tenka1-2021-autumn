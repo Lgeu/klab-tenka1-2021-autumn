{
 "cells": [
  {
   "cell_type": "code",
   "execution_count": 1,
   "id": "313a7c25",
   "metadata": {},
   "outputs": [],
   "source": [
    "!g++ -std=gnu++17 main.cpp -o main"
   ]
  },
  {
   "cell_type": "code",
   "execution_count": 2,
   "id": "c5bb0c0b",
   "metadata": {
    "scrolled": true
   },
   "outputs": [
    {
     "name": "stdout",
     "output_type": "stream",
     "text": [
      "https://contest.2021-autumn.gbc.tenka1.klab.jp/api/game/873a02384c203ba94c9fb8702abde0f3\n",
      "https://contest.2021-autumn.gbc.tenka1.klab.jp/api/move/873a02384c203ba94c9fb8702abde0f3/1-12-18\n",
      "https://contest.2021-autumn.gbc.tenka1.klab.jp/api/move/873a02384c203ba94c9fb8702abde0f3/2-12-18\n",
      "https://contest.2021-autumn.gbc.tenka1.klab.jp/api/move/873a02384c203ba94c9fb8702abde0f3/3-12-18\n",
      "https://contest.2021-autumn.gbc.tenka1.klab.jp/api/move/873a02384c203ba94c9fb8702abde0f3/4-12-18\n"
     ]
    }
   ],
   "source": [
    "# sys.argv[1:] を \"./main\" に変える\n",
    "import os\n",
    "import random\n",
    "import subprocess\n",
    "import sys\n",
    "import time\n",
    "import json\n",
    "from typing import Iterable, List, Set, Tuple\n",
    "from urllib.request import urlopen\n",
    "\n",
    "# ゲームサーバのアドレス / トークン\n",
    "GAME_SERVER = os.getenv('GAME_SERVER', 'https://contest.2021-autumn.gbc.tenka1.klab.jp')\n",
    "# GAME_SERVER = 'https://contest.2021-autumn.gbc.tenka1.klab.jp/staging'  # 開発用環境\n",
    "#TOKEN = os.getenv('TOKEN', 'YOUR_TOKEN')\n",
    "TOKEN = \"873a02384c203ba94c9fb8702abde0f3\"\n",
    "\n",
    "\n",
    "p = subprocess.Popen(\"./main\", stdin=subprocess.PIPE, stdout=subprocess.PIPE)\n",
    "\n",
    "\n",
    "def call_api(x: str) -> dict:\n",
    "    url = f'{GAME_SERVER}{x}'\n",
    "    print(url)\n",
    "    with urlopen(url) as res:\n",
    "        return json.loads(res.read())\n",
    "\n",
    "\n",
    "def call_game():\n",
    "    r = call_api(f'/api/game/{TOKEN}')\n",
    "    assert r['status'] == 'ok'\n",
    "    p.stdin.write(f'{r[\"now\"]} {len(r[\"agent\"])} {len(r[\"resource\"])} {r[\"next_resource\"]} {len(r[\"owned_resource\"])}\\n'.encode())\n",
    "    for a in r[\"agent\"]:\n",
    "        p.stdin.write(f'{len(a[\"move\"])}\\n'.encode())\n",
    "        for m in a[\"move\"]:\n",
    "            p.stdin.write(f'{m[\"x\"]} {m[\"y\"]} {m[\"t\"]}\\n'.encode())\n",
    "    for s in r[\"resource\"]:\n",
    "        p.stdin.write(f'{s[\"id\"]} {s[\"x\"]} {s[\"y\"]} {s[\"t0\"]} {s[\"t1\"]} {s[\"type\"]} {s[\"weight\"]}\\n'.encode())\n",
    "    for o in r[\"owned_resource\"]:\n",
    "        p.stdin.write(f'{o[\"type\"]} {o[\"amount\"]}\\n'.encode())\n",
    "    p.stdin.flush()\n",
    "\n",
    "\n",
    "def read_move(r):\n",
    "    assert r['status'] == 'ok'\n",
    "    p.stdin.write(f'{r[\"now\"]} {len(r[\"move\"])}\\n'.encode())\n",
    "    for m in r[\"move\"]:\n",
    "        p.stdin.write(f'{m[\"x\"]} {m[\"y\"]} {m[\"t\"]}\\n'.encode())\n",
    "    p.stdin.flush()\n",
    "\n",
    "\n",
    "def call_move(index: str, x: str, y: str):\n",
    "    read_move(call_api(f'/api/move/{TOKEN}/{index}-{x}-{y}'))\n",
    "\n",
    "\n",
    "def call_will_move(index: str, x: str, y: str, t: str):\n",
    "    read_move(call_api(f'/api/will_move/{TOKEN}/{index}-{x}-{y}-{t}'))\n",
    "\n",
    "\n",
    "def call_resources(ids: Iterable[str]):\n",
    "    r = call_api(f'/api/resources/{TOKEN}/{\"-\".join(ids)}')\n",
    "    assert r['status'] == 'ok'\n",
    "    p.stdin.write(f'{len(r[\"resource\"])}\\n'.encode())\n",
    "    for s in r[\"resource\"]:\n",
    "        p.stdin.write(f'{s[\"id\"]} {s[\"x\"]} {s[\"y\"]} {s[\"t0\"]} {s[\"t1\"]} {s[\"type\"]} {s[\"weight\"]} {s[\"amount\"]}\\n'.encode())\n",
    "    p.stdin.flush()\n",
    "\n",
    "\n",
    "def main():\n",
    "    while True:\n",
    "        line = p.stdout.readline()\n",
    "        if not line:\n",
    "            break\n",
    "        a = line.decode().rstrip().split(' ')\n",
    "        if a[0] == 'game':\n",
    "            call_game()\n",
    "        elif a[0] == 'move':\n",
    "            call_move(a[1], a[2], a[3])\n",
    "        elif a[0] == 'will_move':\n",
    "            call_will_move(a[1], a[2], a[3], a[4])\n",
    "        elif a[0] == 'resources':\n",
    "            call_resources(a[1:])\n",
    "        else:\n",
    "            assert False, f'invalid command {repr(a[0])}'\n",
    "\n",
    "\n",
    "if __name__ == \"__main__\":\n",
    "    main()"
   ]
  },
  {
   "cell_type": "code",
   "execution_count": null,
   "id": "28bc64fe",
   "metadata": {},
   "outputs": [],
   "source": []
  }
 ],
 "metadata": {
  "kernelspec": {
   "display_name": "Python 3",
   "language": "python",
   "name": "python3"
  },
  "language_info": {
   "codemirror_mode": {
    "name": "ipython",
    "version": 3
   },
   "file_extension": ".py",
   "mimetype": "text/x-python",
   "name": "python",
   "nbconvert_exporter": "python",
   "pygments_lexer": "ipython3",
   "version": "3.8.8"
  }
 },
 "nbformat": 4,
 "nbformat_minor": 5
}
