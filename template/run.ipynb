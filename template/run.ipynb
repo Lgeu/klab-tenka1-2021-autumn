{
 "cells": [
  {
   "cell_type": "code",
   "execution_count": null,
   "id": "639864ef",
   "metadata": {},
   "outputs": [],
   "source": [
    "!g++ -std=gnu++17 main.cpp -o main"
   ]
  },
  {
   "cell_type": "code",
   "execution_count": null,
   "id": "1dbd08b2",
   "metadata": {},
   "outputs": [],
   "source": [
    "# sys.argv[1:] を \"./main\" に変える"
   ]
  }
 ],
 "metadata": {
  "kernelspec": {
   "display_name": "Python 3",
   "language": "python",
   "name": "python3"
  },
  "language_info": {
   "codemirror_mode": {
    "name": "ipython",
    "version": 3
   },
   "file_extension": ".py",
   "mimetype": "text/x-python",
   "name": "python",
   "nbconvert_exporter": "python",
   "pygments_lexer": "ipython3",
   "version": "3.8.8"
  }
 },
 "nbformat": 4,
 "nbformat_minor": 5
}
